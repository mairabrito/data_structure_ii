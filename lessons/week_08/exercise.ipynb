{
  "cells": [
    {
      "cell_type": "markdown",
      "metadata": {
        "id": "mw0nbcRuMVdS"
      },
      "source": [
        "Student Identification\n",
        "\n",
        "Full Name 01: **Marta Maira Brito Barbosa**\n",
        "\n",
        "#### Exercise Q&A (1,00 point for grade in Unit 02)"
      ]
    },
    {
      "attachments": {},
      "cell_type": "markdown",
      "metadata": {
        "id": "gjiv4tul5fih"
      },
      "source": [
        "### Question 01\n",
        "Consider a network with N nodes. Given a single link, what is the maximum number of nodes that link can connect? Given a single node, what is the maximum number of links that can connect to that node?\n",
        "\n",
        "Answer:\n",
        "\n",
        "**In a network with N nodes, a single link can connect a maximum of N-2 nodes. This is because each end of the link cannot be connected to itself, leaving N-2 nodes to which it can be connected.**\n",
        "\n",
        "**On the other hand, in a network with N nodes, a single node can be connected to a maximum of N-1 links. This is because the node can be connected to any of the other N-1 nodes in the network, but it cannot be connected to itself.**\n",
        "\n",
        "### Question 02\n",
        "![Figura 1](https://camo.githubusercontent.com/3d7644e7aacc74ed1576bbd698c327f2be0c1c37c57124b6b9a180c458332e94/68747470733a2f2f64726976652e676f6f676c652e636f6d2f75633f6578706f72743d766965772669643d315934322d6333507131586f737a45457659735a46647233476363417170376c5f)\n",
        "\n",
        "Figure 1: Map of New York in 1880. From Report on the Social Statistics of Cities, Compiled by George E. Waring, Jr., U.S. Census Office, 1886. Image courtesy of University of Texas Libraries.\n",
        "Consider the road map in Figure 1. The grid-like structure of this network means that most nodes have the same degree. What is the most common degree for nodes in this network?\n",
        "\n",
        "Answer: **degree 2**\n",
        "\n",
        "\n",
        "### Question 03\n",
        "Consider the road map in Figure 1. Manhattan has a lot of one-way streets. This implies that a good network model of traffic flow would probably have directed links. Consider a subgraph of this network with grid-like connectivity and all one-way streets (i.e. each node is a four-way intersection of two one-way streets). What is the most common in-degree of nodes in this subgraph? What is the most common out-degree?\n",
        "\n",
        "Answer:\n",
        "\n",
        "**As the network has grid-like connectivity and all streets are one-way, each node must have an in-degree and an out-degree of 2. Therefore, the most common in-degree and the most common out-degree are both equal to 2.**\n",
        "\n",
        "### Question 04\n",
        "What network quantity can we use to represent the volume of traffic between each pair of adjacent intersections in the Manhattan road map (Figure 1)?\n",
        "\n",
        "Answer: Directed and weighted.\n"
      ]
    },
    {
      "cell_type": "markdown",
      "metadata": {
        "id": "8vo3aMFl6WMt"
      },
      "source": [
        "### Question 5\n",
        "Consider a directed network of N nodes. Now consider the total in-degree (i.e. the sum of the in-degree over all nodes in the network). Compare this to the analogous total out-degree. Which of the following must hold true for any such network?\n",
        "1. Total in-degree must be less than total out-degree\n",
        "2. Total in-degree must be greater than total out-degree\n",
        "3. Total in-degree must be equal to total out-degree\n",
        "4. None of these hold true in all instances\n",
        "\n",
        "Answer: **4. None of these hold true in all instances**\n",
        "\n",
        "The total in-degree and total out-degree of a directed network can be different and dependent on the specific structure of the network.\n"
      ]
    },
    {
      "cell_type": "markdown",
      "metadata": {
        "id": "aL0ulqZZwzyV"
      },
      "source": [
        "## Question 6\n",
        "Consider a Twitter retweet network, where users are nodes and we want to show how many times a given user has retweeted another user. What link type best captures this relation? \n",
        "1.   Undirected, unweighted \n",
        "2.   Undirected, weighted \n",
        "3.   Directed, unweighted \n",
        "4.   Directed, weighted\n",
        "\n",
        "Answer: **4.   Directed, weighted**\n",
        "\n",
        "**Directed** because it retweets a specific person,\n",
        "and **weighted** because can retweet multiple times."
      ]
    },
    {
      "cell_type": "markdown",
      "metadata": {
        "id": "KKzIL9nqw551"
      },
      "source": [
        "### Question 7\n",
        "Consider a hashtag co-occurrence graph from Twitter. In this network, hashtags are the nodes, and a link between two hashtags indicates how often those two hashtags appear in tweets together. What link type would best capture this relation? \n",
        "1.   Undirected, unweighted \n",
        "2.   Undirected, weighted \n",
        "3.   Directed, unweighted \n",
        "4.   Directed, weighted\n",
        "\n",
        "Answer: **2.   Undirected, weighted**\n",
        "\n",
        "Undirectted because the order between the two hashtags doesn't matter. Weighted, because the number of times hashtags appear together matters.\n"
      ]
    },
    {
      "cell_type": "markdown",
      "metadata": {
        "id": "JOURqhBw3e7P"
      },
      "source": [
        "### Question 8\n",
        "Consider a network created from characters in a story or play. The nodes are people, and a link exists between two nodes if those characters ever engage in dialogue. Which type of edge could represent this relation? Justify your answer. \n",
        "1.   Undirected, unweighted \n",
        "2.   Undirected, weighted \n",
        "3.   Directed, unweighted \n",
        "4.   Directed, weighted\n",
        "\n",
        "Answer:  **1.   Undirected, unweighted**\n",
        "\n",
        "If there is a dialog, the order of nodes does not matter and neither does the number of dialogs.\n"
      ]
    },
    {
      "cell_type": "markdown",
      "metadata": {
        "id": "iSPELoTR4ZJ7"
      },
      "source": [
        "### Question 9\n",
        "Suppose we want to make a more complex version of a dialog network that captures how much each character speaks and to whom. What type of link would best represent this relation?\n",
        "1.   Undirected, unweighted \n",
        "2.   Undirected, weighted \n",
        "3.   Directed, unweighted \n",
        "4.   Directed, weighted\n",
        "\n",
        "Answer: 4. **Directed, weighted**\n",
        "\n",
        "To whom the character will speak and the amount of dialogue are important."
      ]
    },
    {
      "cell_type": "markdown",
      "metadata": {
        "id": "4KD7wWRz5B_B"
      },
      "source": [
        "### Question 10\n",
        "Imagine that your social network has a subnetwork where you and 24 of your friends (25 people total) are all friends with each other. What is such a subnetwork called? And how many links are contained in the subnetwork?\n",
        "\n",
        "Answer:\n",
        "\n",
        "**The number of links in a complete graph of size n is given by the formula n(n-1)/2. So the number of links in this subnet would be:**\n",
        "\n",
        "**25(25-1)/2 = 300**\n",
        "\n",
        "**So there would be 300 links contained within the subnet.**"
      ]
    },
    {
      "cell_type": "markdown",
      "metadata": {
        "id": "m_YAdDp1MZhW"
      },
      "source": [
        "### Question 11\n",
        "Consider an undirected network with N nodes. What is the maximum number of links this network can have?\n",
        "\n",
        "Answer:  **Lmax = (N*(N-1))/2.**\n"
      ]
    },
    {
      "cell_type": "markdown",
      "metadata": {
        "id": "5arMLeDDNNz2"
      },
      "source": [
        "### Question 12\n",
        "Consider a bipartite network of N nodes,  N1 nodes of type 1 and N2 nodes of type 2 (so that N1+N2 = N). What is the maximum number of links in this network?\n",
        "\n",
        "Answer: **Lmáx = N1 x N2**\n"
      ]
    },
    {
      "cell_type": "markdown",
      "metadata": {
        "id": "6pYLh7VDOreF"
      },
      "source": [
        "### Question 13\n",
        "\n",
        "Given a complete network A with N nodes, and a bipartite network B also with N nodes, which of the following holds true for any N > 2: 1.   Network A has more links than network B 2.   Network A has the same number of links as network B 3.   Network A has fewer links than network B 4.   None of these hold true for all such N > 2\n",
        "\n",
        "Answer: **1.   Network A has more links than network B** "
      ]
    },
    {
      "cell_type": "markdown",
      "metadata": {
        "id": "-jQBzfS8Pivy"
      },
      "source": [
        "### Question 14\n",
        "\n",
        "Consider this adjacency matrix:\n",
        "\n",
        "![Imagem](https://camo.githubusercontent.com/e536fa8b88635370a8c04d86b77fc42a97e5003586a4b5b483f82ce34b75a607/68747470733a2f2f64726976652e676f6f676c652e636f6d2f75633f6578706f72743d766965772669643d316534414e71585f6b4a4350686e56697a76624b2d546f424a67725a4a70566465)\n",
        "An entry in the ith row and jth column indicates the weight of the link from node i to node j. For instance, the entry in the second row and third column is 2, meaning the weight of the link from node B to node C is 2. What kind of network does this matrix represent?\n",
        "1.   Undirected, unweighted \n",
        "2.   Undirected, weighted \n",
        "3.   Directed, unweighted \n",
        "4.   Directed, weighted\n",
        "\n",
        "Answer: **4.   Directed, weighted**\n"
      ]
    },
    {
      "cell_type": "markdown",
      "metadata": {
        "id": "GvdPP44aRhXy"
      },
      "source": [
        "### Question 15\n",
        "\n",
        "We have seen that Facebook’s network is incredibly sparse. Assume it has approximately 1 billion users, each with 1000 friends on average.\n",
        "\n",
        "Suppose Facebook releases its annual report and it shows that while the number of users in the network has stayed the same, the average number of friends per user has increased. Would this imply that the network density increased, decreased, or stayed the same?\n",
        "\n",
        "Suppose instead that both the number of users and the average number of friends per user doubled. Would this imply the network density increased, decreased, or stayed the same?\n",
        "\n",
        "Answer:\n",
        "\n",
        "1. If the number of users in the network has stayed the same and the average number of friends per user has increased, then the network density would also increase. This is because an increase in the average number of friends per user implies that there are more connections between users, resulting in a denser network.\n",
        "\n",
        "2. If both the number of users and the average number of friends per user doubled, then the network density would stay the same. This is because the number of connections in the network would increase proportionally to the increase in users and average friends per user, keeping the density of the network constant."
      ]
    },
    {
      "cell_type": "markdown",
      "metadata": {
        "id": "Zyx0L_pfRzK7"
      },
      "source": [
        "### Question 16\n",
        "Netflix keeps data on customer preferences using a big bipartite network connecting users to titles. Suppose that from 2021 to 2022 Netflix’s library has remained the same size, while the number of users has increased. Further suppose that the average user’s degree in this network has remained constant. Has the density of this network increased, decreased, or stayed the same?\n",
        "\n",
        "Answer:\n",
        "\n",
        "**The density of the network has decreased.**\n",
        "\n",
        "The density of a bipartite network is defined as the ratio of the number of links to the maximum possible number of links. In this case, since the library size has remained constant, the maximum possible number of links (i.e., the total number of edges) is also constant.\n",
        "\n",
        "If the number of users has increased while the average user's degree has remained constant, then the total number of links in the network has increased linearly with the number of users. However, the maximum possible number of links has remained constant, so the density of the network must have decreased as the number of users increased.\n"
      ]
    },
    {
      "cell_type": "markdown",
      "metadata": {
        "id": "ClOe7JBER6pi"
      },
      "source": [
        "## Exercise - Hands On (1,00 point for grade in Unit 02)\n",
        "### Implementing all hands on using NetworkX."
      ]
    },
    {
      "cell_type": "code",
      "execution_count": 1,
      "metadata": {
        "id": "lYWUpZudSbpf"
      },
      "outputs": [],
      "source": [
        "import networkx as nx\n",
        "%matplotlib inline"
      ]
    },
    {
      "cell_type": "markdown",
      "metadata": {
        "id": "mjuGir-Pv-Ho"
      },
      "source": [
        "### Hands On 01\n",
        "Often in the context of trees, a node with degree 1 is called a leaf. Write a function named get_leaves that takes a graph as an argument, loops through the nodes, and returns a list of nodes with degree 1."
      ]
    },
    {
      "cell_type": "code",
      "execution_count": 13,
      "metadata": {
        "id": "8yz_uMPTMH6K"
      },
      "outputs": [],
      "source": [
        "def get_leaves(G):\n",
        "  result = []\n",
        "  for node in G.nodes:\n",
        "    if G.degree(node) == 1:\n",
        "      result.append(node)\n",
        "  return result"
      ]
    },
    {
      "cell_type": "code",
      "execution_count": 14,
      "metadata": {
        "id": "odJ5XkAYSFsI"
      },
      "outputs": [],
      "source": [
        "# this block of code is only for networkx adapt it for graph-tool\n",
        "G = nx.Graph()\n",
        "G.add_edges_from([\n",
        "        ('a', 'b'),\n",
        "        ('a', 'd'),\n",
        "        ('c', 'd'),\n",
        "    ])\n",
        "assert set(get_leaves(G)) == {'c', 'b'}"
      ]
    },
    {
      "cell_type": "markdown",
      "metadata": {
        "id": "RJVM8EvwSkUr"
      },
      "source": [
        "### Hands On 02\n",
        "Write a function max_degree that takes a graph as its argument, and returns a 2-tuple with the name and degree of the node with highest degree."
      ]
    },
    {
      "cell_type": "code",
      "execution_count": 8,
      "metadata": {
        "id": "73tUlBVPSqw7"
      },
      "outputs": [],
      "source": [
        "def max_degree(G):\n",
        "  max = 0\n",
        "  for node in G.nodes:\n",
        "    if G.degree(node) > max:\n",
        "      max = G.degree(node)\n",
        "      result = (node, G.degree(node))\n",
        "  return result"
      ]
    },
    {
      "cell_type": "code",
      "execution_count": null,
      "metadata": {
        "id": "lfbbVBgLSxBs"
      },
      "outputs": [],
      "source": [
        "import gdown\n",
        "\n",
        "url = 'https://drive.google.com/uc?id=14AMuGDPHac7FOOr7Stw2Jh-l-IWb7n8D'\n",
        "output = 'friends.adjlist'\n",
        "gdown.download(url, output, quiet=False)"
      ]
    },
    {
      "cell_type": "code",
      "execution_count": 9,
      "metadata": {
        "id": "8J_ElldPSzaQ"
      },
      "outputs": [],
      "source": [
        "# this block of code is only for networkx adapt it for graph-tool\n",
        "SG = nx.read_adjlist('friends.adjlist')\n",
        "assert max_degree(SG) == ('Claire', 4)"
      ]
    },
    {
      "cell_type": "markdown",
      "metadata": {
        "id": "dUWfx23FTfK9"
      },
      "source": [
        "### Hands on 03\n",
        "Write a function mutual_friends that takes a graph and two nodes as arguments, and returns a list (or set) of nodes that are linked to both given nodes. For example, in the graph SG drawn above,\n",
        "\n",
        "mutual_friends(SG, 'Alice', 'Claire') == ['Frank']\n",
        "\n",
        "an empty list or set should be returned in the case where two nodes have no mutual friends, e.g. George and Bob in SG drawn above."
      ]
    },
    {
      "cell_type": "code",
      "execution_count": 5,
      "metadata": {
        "id": "6-rWh1pBHbZw"
      },
      "outputs": [],
      "source": [
        "def mutual_friends(G, node_1, node_2):\n",
        "  neighbors1 = set(G.neighbors(node_1))\n",
        "  neighbors2 = set(G.neighbors(node_2))\n",
        "  mutual = list(neighbors1.intersection(neighbors2))\n",
        "  return mutual"
      ]
    },
    {
      "cell_type": "code",
      "execution_count": 6,
      "metadata": {
        "id": "S4vArzo7ToSd"
      },
      "outputs": [],
      "source": [
        "# this block of code is only for networkx adapt it for graph-tool\n",
        "SG = nx.read_adjlist('friends.adjlist')\n",
        "assert mutual_friends(SG, 'Alice', 'Claire') == ['Frank']\n",
        "assert mutual_friends(SG, 'George', 'Bob') == []\n",
        "assert sorted(mutual_friends(SG, 'Claire', 'George')) == ['Dennis', 'Frank']"
      ]
    }
  ],
  "metadata": {
    "colab": {
      "provenance": []
    },
    "kernelspec": {
      "display_name": "Python 3",
      "name": "python3"
    },
    "language_info": {
      "name": "python"
    }
  },
  "nbformat": 4,
  "nbformat_minor": 0
}
