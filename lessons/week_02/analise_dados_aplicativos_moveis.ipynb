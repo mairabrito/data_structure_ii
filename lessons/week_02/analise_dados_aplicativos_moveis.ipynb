{
 "cells": [
  {
   "cell_type": "markdown",
   "id": "690f4295",
   "metadata": {},
   "source": [
    "##  Projeto Guiado: Perfis de Aplicativos Lucrativos para App Store e Google Play Markets \n",
    "\n",
    "Esse projeto tem o objetivo de encontrar perfis de aplicativos móveis que sejam lucrativos para os mercados de App Store e Google Play.\n",
    "\n",
    "Trabalhando como analiste de dados de uma empressa que cria aplicativos móveis Android e iOS, nosso trabalho é permitir que a nossa equipe de desenvolvimento possa tomar decisões com base em dados relacionados ao tipo de aplicativo que eles criam.\n",
    "\n",
    "A nossa empresa cria apenas aplicativos gratuitos para download e instalação, e a nossa receita consiste em anúncioas no aplicativo. Dessa forma, a nossa receita para qualquer aplicativo é influenciada principalmente pelo número de usuários que usam nosso aplicativo. Sendo assim, o nosso objetivo para este projeto é analisar dados para ajudar nossos desenvolvedores a entender quais tipos de aplicativos provavelmente atrairão mais usuários.\n",
    "\n",
    "Projeto guiado pela [Dataquest](https://www.dataquest.io/)."
   ]
  },
  {
   "cell_type": "markdown",
   "id": "6b132e5c",
   "metadata": {},
   "source": [
    "Em setembro de 2018, havia aproximadamente 2 milhões de aplicativos iOS disponíveis na App Store e 2,1 milhões de aplicativos Android no Google Play.\n",
    "\n",
    "![Imagem](https://cdn.statcdn.com/Statistic/275000/276623-blank-754.png)\n",
    "Fonte: [Statista See More](https://www.statista.com/statistics/276623/number-of-apps-available-in-leading-app-stores/)\n",
    "\n",
    "A coleta de dados para mais de 4 milhões de aplicativos requer uma quantidade significativa de tempo e dinheiro, portanto, tentaremos analisar uma amostra dos dados. Para evitar gastar recursos na coleta de novos dados, devemos primeiro tentar ver se podemos encontrar quaisquer dados existentes relevantes sem nenhum custo. Felizmente, aqui estão dois conjuntos de dados que parecem adequados para nossos objetivos:\n",
    "- [Um conjunto de dados](https://www.kaggle.com/datasets/lava18/google-play-store-apps) contendo dados sobre aproximadamente 10.000 aplicativos Android do Google Play; os dados foram coletados em agosto de 2018. Você pode baixar o conjunto de dados diretamente [deste link](https://dq-content.s3.amazonaws.com/350/googleplaystore.csv) .\n",
    "- [Um conjunto de dados](https://www.kaggle.com/ramamet4/app-store-apple-data-set-10k-apps) contendo dados sobre aproximadamente 7.000 aplicativos iOS da App Store; os dados foram coletados em julho de 2017. Você pode baixar o conjunto de dados diretamente [deste link](https://dq-content.s3.amazonaws.com/350/AppleStore.csv).\n"
   ]
  },
  {
   "cell_type": "markdown",
   "id": "0fb11043",
   "metadata": {},
   "source": [
    "#### Vamos começar abrindo os dois conjuntos de dados e continuar explorando os dados."
   ]
  },
  {
   "cell_type": "code",
   "execution_count": 1,
   "id": "325e5351",
   "metadata": {},
   "outputs": [],
   "source": [
    "from csv import reader\n",
    "\n",
    "### The Google Play data set ###\n",
    "opened_file = open('./my_datasets/googleplaystore.csv')\n",
    "read_file = reader(opened_file)\n",
    "android = list(read_file)\n",
    "android_header = android[0]\n",
    "android = android[1:]\n",
    "\n",
    "### The App Store data set ###\n",
    "opened_file = open('./my_datasets/AppleStore.csv')\n",
    "read_file = reader(opened_file)\n",
    "ios = list(read_file)\n",
    "ios_header = ios[0]\n",
    "ios = ios[1:]"
   ]
  },
  {
   "cell_type": "markdown",
   "id": "0abde9b9",
   "metadata": {},
   "source": [
    "Para facilitar a exploração dos dois conjuntos de dados, primeiro escreveremos uma função chamada explore_data() que podemos usar repetidamente para explorar as linhas de uma maneira mais legível. Também adicionaremos uma opção para nossa função mostrar o número de linhas e colunas para qualquer conjunto de dados."
   ]
  },
  {
   "cell_type": "code",
   "execution_count": 2,
   "id": "28beb71c",
   "metadata": {},
   "outputs": [
    {
     "name": "stdout",
     "output_type": "stream",
     "text": [
      "['App', 'Category', 'Rating', 'Reviews', 'Size', 'Installs', 'Type', 'Price', 'Content Rating', 'Genres', 'Last Updated', 'Current Ver', 'Android Ver']\n",
      "\n",
      "\n",
      "['Photo Editor & Candy Camera & Grid & ScrapBook', 'ART_AND_DESIGN', '4.1', '159', '19M', '10,000+', 'Free', '0', 'Everyone', 'Art & Design', 'January 7, 2018', '1.0.0', '4.0.3 and up']\n",
      "\n",
      "\n",
      "['Coloring book moana', 'ART_AND_DESIGN', '3.9', '967', '14M', '500,000+', 'Free', '0', 'Everyone', 'Art & Design;Pretend Play', 'January 15, 2018', '2.0.0', '4.0.3 and up']\n",
      "\n",
      "\n",
      "['U Launcher Lite – FREE Live Cool Themes, Hide Apps', 'ART_AND_DESIGN', '4.7', '87510', '8.7M', '5,000,000+', 'Free', '0', 'Everyone', 'Art & Design', 'August 1, 2018', '1.2.4', '4.0.3 and up']\n",
      "\n",
      "\n",
      "Number of rows: 10841\n",
      "NUmber of columns: 13\n"
     ]
    }
   ],
   "source": [
    "def explore_data(dataset, start, end, row_and_columns = False):\n",
    "    dataset_slice = dataset[start:end]\n",
    "    for row in dataset_slice:\n",
    "        print(row)\n",
    "        print('\\n')\n",
    "    if (row_and_columns):\n",
    "        print('Number of rows:', len(dataset))\n",
    "        print('NUmber of columns:', len(dataset[0]))\n",
    "        \n",
    "print(android_header)\n",
    "print('\\n')\n",
    "explore_data(android,0,3, True)"
   ]
  },
  {
   "cell_type": "markdown",
   "id": "5c0c2a4f",
   "metadata": {},
   "source": [
    "Vemos que o conjunto de dados do Google Play tem 10841 aplicativos e 13 colunas. Em uma rápida olhada, as colunas que podem ser úteis para o propósito de nossa análise são 'Aplicativo', 'Categoria', 'Comentários', 'Instalações', 'Tipo', 'Preço' e 'Gêneros'.\n",
    "\n",
    "Agora vamos dar uma olhada no conjunto de dados da App Store."
   ]
  },
  {
   "cell_type": "code",
   "execution_count": 3,
   "id": "e38848c2",
   "metadata": {},
   "outputs": [
    {
     "name": "stdout",
     "output_type": "stream",
     "text": [
      "['', 'id', 'track_name', 'size_bytes', 'currency', 'price', 'rating_count_tot', 'rating_count_ver', 'user_rating', 'user_rating_ver', 'ver', 'cont_rating', 'prime_genre', 'sup_devices.num', 'ipadSc_urls.num', 'lang.num', 'vpp_lic']\n",
      "\n",
      "\n",
      "['1', '281656475', 'PAC-MAN Premium', '100788224', 'USD', '3.99', '21292', '26', '4', '4.5', '6.3.5', '4+', 'Games', '38', '5', '10', '1']\n",
      "\n",
      "\n",
      "['2', '281796108', 'Evernote - stay organized', '158578688', 'USD', '0', '161065', '26', '4', '3.5', '8.2.2', '4+', 'Productivity', '37', '5', '23', '1']\n",
      "\n",
      "\n",
      "['3', '281940292', 'WeatherBug - Local Weather, Radar, Maps, Alerts', '100524032', 'USD', '0', '188583', '2822', '3.5', '4.5', '5.0.0', '4+', 'Weather', '37', '5', '3', '1']\n",
      "\n",
      "\n",
      "Number of rows: 7197\n",
      "NUmber of columns: 17\n"
     ]
    }
   ],
   "source": [
    "print(ios_header)\n",
    "print('\\n')\n",
    "explore_data(ios, 0, 3, True)"
   ]
  },
  {
   "cell_type": "markdown",
   "id": "70e9c52d",
   "metadata": {},
   "source": [
    "Já no conjundo de dados do iOS temos 7197 aplicativos e 17 colunas. As colunas que parecem interessantes são: 'track_name', 'currency', 'price', 'rating_count_tot', 'rating_count_ver', and 'prime_genre'. Nem todos os nomes de coluna são autoexplicativos neste caso, mas detalhes sobre cada coluna podem ser encontrados na [documentação](https://www.kaggle.com/ramamet4/app-store-apple-data-set-10k-apps/home) do conjunto de dados."
   ]
  },
  {
   "cell_type": "markdown",
   "id": "3ec19bf1",
   "metadata": {},
   "source": [
    "### Excluindo dados incorretos\n",
    "O conjunto de dados do Google Play tem uma seção de discussão dedicada, e podemos ver que uma das discussões descreve um erro para a linha 10472. Vamos imprimir esta linha e compará-la com o cabeçalho e outra linha que está correta."
   ]
  },
  {
   "cell_type": "code",
   "execution_count": 4,
   "id": "3bc0a69b",
   "metadata": {
    "scrolled": true
   },
   "outputs": [
    {
     "name": "stdout",
     "output_type": "stream",
     "text": [
      "['Life Made WI-Fi Touchscreen Photo Frame', '1.9', '19', '3.0M', '1,000+', 'Free', '0', 'Everyone', '', 'February 11, 2018', '1.0.19', '4.0 and up']\n",
      "\n",
      "\n",
      "['App', 'Category', 'Rating', 'Reviews', 'Size', 'Installs', 'Type', 'Price', 'Content Rating', 'Genres', 'Last Updated', 'Current Ver', 'Android Ver']\n",
      "\n",
      "\n",
      "['Photo Editor & Candy Camera & Grid & ScrapBook', 'ART_AND_DESIGN', '4.1', '159', '19M', '10,000+', 'Free', '0', 'Everyone', 'Art & Design', 'January 7, 2018', '1.0.0', '4.0.3 and up']\n"
     ]
    }
   ],
   "source": [
    "print(android[10472])  # incorrect row\n",
    "print('\\n')\n",
    "print(android_header)  # header\n",
    "print('\\n')\n",
    "print(android[0])      # correct row"
   ]
  },
  {
   "cell_type": "markdown",
   "id": "cd79f689",
   "metadata": {},
   "source": [
    "A linha 10472 corresponde ao aplicativo Life Made WI-Fi Touchscreen Photo Frame, e podemos ver que a classificação é 19. Isso está claramente errado porque a classificação máxima para um aplicativo do Google Play é 5 (como mencionado na seção de discussões, este problema é causado por um valor ausente na coluna 'Categoria'). Como consequência, excluiremos esta linha."
   ]
  },
  {
   "cell_type": "code",
   "execution_count": 5,
   "id": "162e2bf0",
   "metadata": {},
   "outputs": [
    {
     "name": "stdout",
     "output_type": "stream",
     "text": [
      "10841\n",
      "10840\n"
     ]
    }
   ],
   "source": [
    "print(len(android))\n",
    "del android[10472]\n",
    "print(len(android))"
   ]
  },
  {
   "cell_type": "markdown",
   "id": "a51838be",
   "metadata": {},
   "source": [
    "### Removendo Entradas Duplicadas: Parte Um"
   ]
  },
  {
   "cell_type": "markdown",
   "id": "09a3c990",
   "metadata": {},
   "source": [
    "Se explorarmos o conjunto de dados do Google Play por tempo suficiente, descobriremos que alguns aplicativos têm mais de uma entrada. Por exemplo, o aplicativo Instagram possui quatro entradas:"
   ]
  },
  {
   "cell_type": "code",
   "execution_count": 6,
   "id": "ff664511",
   "metadata": {
    "scrolled": true
   },
   "outputs": [
    {
     "name": "stdout",
     "output_type": "stream",
     "text": [
      "['Instagram', 'SOCIAL', '4.5', '66577313', 'Varies with device', '1,000,000,000+', 'Free', '0', 'Teen', 'Social', 'July 31, 2018', 'Varies with device', 'Varies with device']\n",
      "['Instagram', 'SOCIAL', '4.5', '66577446', 'Varies with device', '1,000,000,000+', 'Free', '0', 'Teen', 'Social', 'July 31, 2018', 'Varies with device', 'Varies with device']\n",
      "['Instagram', 'SOCIAL', '4.5', '66577313', 'Varies with device', '1,000,000,000+', 'Free', '0', 'Teen', 'Social', 'July 31, 2018', 'Varies with device', 'Varies with device']\n",
      "['Instagram', 'SOCIAL', '4.5', '66509917', 'Varies with device', '1,000,000,000+', 'Free', '0', 'Teen', 'Social', 'July 31, 2018', 'Varies with device', 'Varies with device']\n"
     ]
    }
   ],
   "source": [
    "for app in android:\n",
    "    name = app[0]\n",
    "    if name == 'Instagram':\n",
    "        print(app)"
   ]
  },
  {
   "cell_type": "markdown",
   "id": "2ad022e0",
   "metadata": {},
   "source": [
    "No total, são 1.181 casos em que um app ocorre mais de uma vez:"
   ]
  },
  {
   "cell_type": "code",
   "execution_count": 7,
   "id": "8d6dc627",
   "metadata": {},
   "outputs": [
    {
     "name": "stdout",
     "output_type": "stream",
     "text": [
      "Number of duplicate apps: 1181\n",
      "\n",
      "\n",
      "Examples of duplicate apps: ['Quick PDF Scanner + OCR FREE', 'Box', 'Google My Business', 'ZOOM Cloud Meetings', 'join.me - Simple Meetings', 'Box', 'Zenefits', 'Google Ads', 'Google My Business', 'Slack', 'FreshBooks Classic', 'Insightly CRM', 'QuickBooks Accounting: Invoicing & Expenses', 'HipChat - Chat Built for Teams', 'Xero Accounting Software']\n"
     ]
    }
   ],
   "source": [
    "duplicate_apps = []\n",
    "unique_apps = []\n",
    "\n",
    "for app in android:\n",
    "    name = app[0]\n",
    "    if name in unique_apps:\n",
    "        duplicate_apps.append(name)\n",
    "    else:\n",
    "        unique_apps.append(name)\n",
    "        \n",
    "print('Number of duplicate apps:', len(duplicate_apps))\n",
    "print('\\n')\n",
    "print('Examples of duplicate apps:', duplicate_apps[:15])"
   ]
  },
  {
   "cell_type": "markdown",
   "id": "54db083b",
   "metadata": {},
   "source": [
    "Não queremos contar certos aplicativos mais de uma vez quando analisamos os dados, então precisamos remover as entradas duplicadas e manter apenas uma entrada por aplicativo. Uma coisa que podemos fazer é remover as linhas duplicadas aleatoriamente, mas provavelmente poderíamos encontrar uma maneira melhor.\n",
    "\n",
    "Se você examinar as linhas que imprimimos duas células acima para o aplicativo Instagram, a principal diferença acontece na quarta posição de cada linha, que corresponde ao número de avaliações. Os números diferentes mostram que os dados foram coletados em momentos diferentes. Podemos usar isso para criar um critério para manter as linhas. Não removeremos as linhas aleatoriamente, mas manteremos as linhas com o maior número de avaliações, pois quanto maior o número de avaliações, mais confiáveis serão as avaliações.\n",
    "\n",
    "Para isso, iremos:\n",
    "\n",
    "Crie um dicionário em que cada chave seja um nome de aplicativo exclusivo e o valor seja o maior número de avaliações desse aplicativo\n",
    "Use o dicionário para criar um novo conjunto de dados, que terá apenas uma entrada por aplicativo (e selecionamos apenas os aplicativos com o maior número de avaliações)"
   ]
  },
  {
   "cell_type": "markdown",
   "id": "ef679d38",
   "metadata": {},
   "source": [
    "### Removendo Entradas Duplicadas: Parte Dois"
   ]
  },
  {
   "cell_type": "code",
   "execution_count": 8,
   "id": "c0e70038",
   "metadata": {
    "scrolled": true
   },
   "outputs": [
    {
     "name": "stdout",
     "output_type": "stream",
     "text": [
      "Expected length: 9659\n"
     ]
    }
   ],
   "source": [
    "print('Expected length:', len(android) -1181)"
   ]
  },
  {
   "cell_type": "code",
   "execution_count": 9,
   "id": "754a4ec8",
   "metadata": {},
   "outputs": [],
   "source": [
    "reviews_max = {}\n",
    "\n",
    "for app in android:\n",
    "    name = app[0]\n",
    "    n_reviews = float(app[3])\n",
    "    \n",
    "    if name in reviews_max and reviews_max[name] < n_reviews:\n",
    "        reviews_max[name] = n_reviews\n",
    "    elif name not in reviews_max:\n",
    "        reviews_max[name] = n_reviews"
   ]
  },
  {
   "cell_type": "markdown",
   "id": "fa7037fa",
   "metadata": {},
   "source": [
    "Em uma célula de código anterior, descobrimos que há 1.181 casos em que um aplicativo ocorre mais de uma vez, portanto, o tamanho do nosso dicionário (de aplicativos exclusivos) deve ser igual à diferença entre o tamanho do nosso conjunto de dados e 1.181."
   ]
  },
  {
   "cell_type": "code",
   "execution_count": 10,
   "id": "4629c474",
   "metadata": {
    "scrolled": true
   },
   "outputs": [
    {
     "name": "stdout",
     "output_type": "stream",
     "text": [
      "Expected length: 9659\n",
      "Actual length: 9659\n"
     ]
    }
   ],
   "source": [
    "print('Expected length:', len(android) - 1181)\n",
    "print('Actual length:', len(reviews_max))"
   ]
  },
  {
   "cell_type": "markdown",
   "id": "ea17f861",
   "metadata": {},
   "source": [
    "Agora, vamos usar o dicionário reviews_max para remover as duplicatas. Para os casos duplicados, manteremos apenas as entradas com o maior número de revisões. Na célula de código abaixo:\n",
    "\n",
    "Começamos inicializando duas listas vazias, android_clean e never_added.\n",
    "Percorremos o conjunto de dados do Android e, para cada iteração:\n",
    "Isolamos o nome do aplicativo e o número de avaliações.\n",
    "Adicionamos a linha atual (app) à lista android_clean e o nome do aplicativo (name) à lista yet_added se:\n",
    "O número de avaliações do aplicativo atual corresponde ao número de avaliações desse aplicativo conforme descrito no dicionário reviews_max; e\n",
    "O nome do aplicativo ainda não está na lista já_adicionada. Precisamos adicionar essa condição suplementar para contabilizar os casos em que o maior número de avaliações de um aplicativo duplicado é o mesmo para mais de uma entrada (por exemplo, o aplicativo Box possui três entradas e o número de avaliações é o mesmo) . Se apenas verificarmos reviews_max[name] == n_reviews, ainda terminaremos com entradas duplicadas para alguns aplicativos."
   ]
  },
  {
   "cell_type": "code",
   "execution_count": 50,
   "id": "6d90e045",
   "metadata": {},
   "outputs": [],
   "source": [
    "android_clean = []\n",
    "already_added = []\n",
    "\n",
    "for app in android:\n",
    "    name = app[0]\n",
    "    n_reviews = float(app[3])\n",
    "    \n",
    "    if n_reviews == reviews_max[name] and name not in already_added:\n",
    "        android_clean.append(app)\n",
    "        already_added.append(name)\n",
    "        \n",
    "#print(len(android_clean))"
   ]
  },
  {
   "cell_type": "markdown",
   "id": "82f2a08f",
   "metadata": {},
   "source": [
    "Agora vamos explorar rapidamente o novo conjunto de dados e confirmar se o número de linhas é 9.659."
   ]
  },
  {
   "cell_type": "code",
   "execution_count": 34,
   "id": "08fbc55c",
   "metadata": {},
   "outputs": [
    {
     "name": "stdout",
     "output_type": "stream",
     "text": [
      "['Photo Editor & Candy Camera & Grid & ScrapBook', 'ART_AND_DESIGN', '4.1', '159', '19M', '10,000+', 'Free', '0', 'Everyone', 'Art & Design', 'January 7, 2018', '1.0.0', '4.0.3 and up']\n",
      "\n",
      "\n",
      "['U Launcher Lite – FREE Live Cool Themes, Hide Apps', 'ART_AND_DESIGN', '4.7', '87510', '8.7M', '5,000,000+', 'Free', '0', 'Everyone', 'Art & Design', 'August 1, 2018', '1.2.4', '4.0.3 and up']\n",
      "\n",
      "\n",
      "['Sketch - Draw & Paint', 'ART_AND_DESIGN', '4.5', '215644', '25M', '50,000,000+', 'Free', '0', 'Teen', 'Art & Design', 'June 8, 2018', 'Varies with device', '4.2 and up']\n",
      "\n",
      "\n",
      "Number of rows: 9659\n",
      "NUmber of columns: 13\n"
     ]
    }
   ],
   "source": [
    "explore_data(android_clean, 0, 3, True)"
   ]
  },
  {
   "cell_type": "markdown",
   "id": "1d961471",
   "metadata": {},
   "source": [
    "Temos 9659 linhas, conforme o esperado."
   ]
  },
  {
   "cell_type": "markdown",
   "id": "9462404e",
   "metadata": {},
   "source": [
    "### Removendo aplicativos em outros idiomas: parte um\n",
    "\n",
    "Se você explorar os conjuntos de dados o suficiente, notará que os nomes de alguns dos aplicativos sugerem que eles não são direcionados a um público que fala inglês. Abaixo, vemos alguns exemplos de ambos os conjuntos de dados:"
   ]
  },
  {
   "cell_type": "code",
   "execution_count": 42,
   "id": "82870852",
   "metadata": {},
   "outputs": [
    {
     "name": "stdout",
     "output_type": "stream",
     "text": [
      "436672029\n",
      "1144164707\n",
      "中国語 AQリスニング\n",
      "لعبة تقدر تربح DZ\n"
     ]
    }
   ],
   "source": [
    "print(ios[813][1])\n",
    "print(ios[6731][1])\n",
    "\n",
    "print(android_clean[4412][0])\n",
    "print(android_clean[7940][0])"
   ]
  },
  {
   "cell_type": "markdown",
   "id": "077c8e74",
   "metadata": {},
   "source": [
    "Não estamos interessados em manter esse tipo de aplicativo, então iremos removê-los. Uma maneira de fazer isso é remover cada aplicativo cujo nome contém um símbolo que não é comumente usado em texto em inglês — o texto em inglês geralmente inclui letras do alfabeto inglês, números compostos de dígitos de 0 a 9, sinais de pontuação (.,! , ?, ;, etc.) e outros símbolos (+, *, /, etc.).\n",
    "\n",
    "Todos esses caracteres específicos para textos em inglês são codificados usando o padrão ASCII. Cada caractere ASCII tem um número correspondente entre 0 e 127 associado a ele, e podemos aproveitar isso para criar uma função que verifica o nome de um aplicativo e nos informa se ele contém caracteres não ASCII.\n",
    "\n",
    "Construímos esta função abaixo e usamos a função interna ord() para descobrir o número de codificação correspondente de cada caractere."
   ]
  },
  {
   "cell_type": "markdown",
   "id": "0171c2bf",
   "metadata": {},
   "source": [
    "def is_english (string):\n",
    "    \n",
    "    for character in string:\n",
    "        if ord(character) > 127:\n",
    "            return False\n",
    "        \n",
    "    return True\n",
    "\n",
    "print(is_english('Instagram'))\n",
    "print(is_english('中国語 AQリスニング'))"
   ]
  },
  {
   "cell_type": "markdown",
   "id": "0f19c373",
   "metadata": {},
   "source": [
    "### Part Two\n",
    "\n",
    "Para minimizar o impacto da perda de dados, removeremos apenas um aplicativo se seu nome tiver mais de três caracteres não ASCII:"
   ]
  },
  {
   "cell_type": "code",
   "execution_count": 48,
   "id": "1519a51f",
   "metadata": {},
   "outputs": [
    {
     "name": "stdout",
     "output_type": "stream",
     "text": [
      "True\n",
      "True\n"
     ]
    }
   ],
   "source": [
    "def is_english (string):\n",
    "    non_ascii = 0\n",
    "    for character in string:\n",
    "        if ord(character) > 127:\n",
    "            non_ascii +=1\n",
    "    \n",
    "    if non_ascii > 3:\n",
    "        return False\n",
    "    else:\n",
    "        return True\n",
    "\n",
    "print(is_english('Docs To Go™ Free Office Suite'))\n",
    "print(is_english('Instachat 😜'))"
   ]
  },
  {
   "cell_type": "markdown",
   "id": "d8a221c4",
   "metadata": {},
   "source": [
    "A função ainda não é perfeita e muito poucos aplicativos não ingleses podem passar pelo nosso filtro, mas isso parece bom o suficiente neste ponto de nossa análise - não devemos gastar muito tempo em otimização neste ponto.\n",
    "\n",
    "Abaixo, usamos a função is_english() para filtrar os aplicativos que não estão em inglês para ambos os conjuntos de dados:"
   ]
  },
  {
   "cell_type": "code",
   "execution_count": 55,
   "id": "1d4da6aa",
   "metadata": {},
   "outputs": [
    {
     "name": "stdout",
     "output_type": "stream",
     "text": [
      "['Photo Editor & Candy Camera & Grid & ScrapBook', 'ART_AND_DESIGN', '4.1', '159', '19M', '10,000+', 'Free', '0', 'Everyone', 'Art & Design', 'January 7, 2018', '1.0.0', '4.0.3 and up']\n",
      "\n",
      "\n",
      "['U Launcher Lite – FREE Live Cool Themes, Hide Apps', 'ART_AND_DESIGN', '4.7', '87510', '8.7M', '5,000,000+', 'Free', '0', 'Everyone', 'Art & Design', 'August 1, 2018', '1.2.4', '4.0.3 and up']\n",
      "\n",
      "\n",
      "['Sketch - Draw & Paint', 'ART_AND_DESIGN', '4.5', '215644', '25M', '50,000,000+', 'Free', '0', 'Teen', 'Art & Design', 'June 8, 2018', 'Varies with device', '4.2 and up']\n",
      "\n",
      "\n",
      "Number of rows: 9614\n",
      "NUmber of columns: 13\n",
      "\n",
      "\n",
      "['1', '281656475', 'PAC-MAN Premium', '100788224', 'USD', '3.99', '21292', '26', '4', '4.5', '6.3.5', '4+', 'Games', '38', '5', '10', '1']\n",
      "\n",
      "\n",
      "['2', '281796108', 'Evernote - stay organized', '158578688', 'USD', '0', '161065', '26', '4', '3.5', '8.2.2', '4+', 'Productivity', '37', '5', '23', '1']\n",
      "\n",
      "\n",
      "['3', '281940292', 'WeatherBug - Local Weather, Radar, Maps, Alerts', '100524032', 'USD', '0', '188583', '2822', '3.5', '4.5', '5.0.0', '4+', 'Weather', '37', '5', '3', '1']\n",
      "\n",
      "\n",
      "Number of rows: 7197\n",
      "NUmber of columns: 17\n"
     ]
    }
   ],
   "source": [
    "android_english = []\n",
    "ios_english = []\n",
    "\n",
    "for app in android_clean:\n",
    "    name = app[0]\n",
    "    if is_english(name):\n",
    "        android_english.append(app)\n",
    "        \n",
    "for app in ios:\n",
    "    name = app[1]\n",
    "    if is_english(name):\n",
    "        ios_english.append(app)\n",
    "        \n",
    "explore_data(android_english, 0, 3, True)\n",
    "print('\\n')\n",
    "explore_data(ios_english, 0, 3, True)"
   ]
  },
  {
   "cell_type": "markdown",
   "id": "278b75f9",
   "metadata": {},
   "source": [
    "### Isolando os aplicativos gratuitos\n",
    "Como mencionamos na introdução, criamos apenas aplicativos gratuitos para download e instalação, e nossa principal fonte de receita consiste em anúncios no aplicativo. Nossos conjuntos de dados contêm aplicativos gratuitos e não gratuitos e precisaremos isolar apenas os aplicativos gratuitos para nossa análise. Abaixo, isolamos os aplicativos gratuitos para ambos os nossos conjuntos de dados."
   ]
  },
  {
   "cell_type": "code",
   "execution_count": 62,
   "id": "e161e35e",
   "metadata": {},
   "outputs": [
    {
     "name": "stdout",
     "output_type": "stream",
     "text": [
      "8864\n",
      "4056\n"
     ]
    }
   ],
   "source": [
    "android_final = []\n",
    "ios_final = []\n",
    "\n",
    "for app in android_english:\n",
    "    price = app[7]\n",
    "    if price == '0':\n",
    "        android_final.append(app)\n",
    "        \n",
    "for app in ios_english:\n",
    "    price = app[5]\n",
    "    if price == '0':\n",
    "        ios_final.append(app)\n",
    "        \n",
    "print(len(android_final))\n",
    "print(len(ios_final))"
   ]
  },
  {
   "cell_type": "markdown",
   "id": "c7359e4a",
   "metadata": {},
   "source": [
    "Ficamos com 8.864 aplicativos Android e 4.056 aplicativos iOS, o que deve ser suficiente para nossa análise."
   ]
  },
  {
   "cell_type": "markdown",
   "id": "f2703e3c",
   "metadata": {},
   "source": [
    "### Aplicativos mais comuns por gênero: parte um\n",
    "Como mencionamos na introdução, nosso objetivo é determinar os tipos de aplicativos que provavelmente atrairão mais usuários, pois nossa receita é altamente influenciada pelo número de pessoas que usam nossos aplicativos.\n",
    "\n",
    "Para minimizar riscos e sobrecarga, nossa estratégia de validação de uma ideia de aplicativo é composta por três etapas:\n",
    "\n",
    "Crie uma versão Android mínima do aplicativo e adicione-a ao Google Play.\n",
    "Se o aplicativo tiver uma boa resposta dos usuários, nós o desenvolvemos ainda mais.\n",
    "Se o aplicativo for lucrativo após seis meses, também criamos uma versão do aplicativo para iOS e a adicionamos à App Store.\n",
    "Como nosso objetivo final é adicionar o aplicativo na App Store e no Google Play, precisamos encontrar perfis de aplicativos que sejam bem-sucedidos em ambos os mercados. Por exemplo, um perfil que pode funcionar bem para ambos os mercados pode ser um aplicativo de produtividade que faz uso de gamificação.\n",
    "\n",
    "Vamos começar a análise tendo uma noção dos gêneros mais comuns para cada mercado. Para isso, construiremos uma tabela de frequência para a coluna prime_genre do conjunto de dados da App Store e as colunas Gêneros e Categoria do conjunto de dados do Google Play."
   ]
  },
  {
   "cell_type": "markdown",
   "id": "0b72ce3f",
   "metadata": {},
   "source": [
    "### Parte dois\n",
    "Construiremos duas funções que podemos usar para analisar as tabelas de frequência:\n",
    "\n",
    "Uma função para gerar tabelas de frequência que mostram porcentagens\n",
    "Outra função que podemos usar para exibir as porcentagens em ordem decrescente"
   ]
  },
  {
   "cell_type": "code",
   "execution_count": 63,
   "id": "2f9d3f24",
   "metadata": {},
   "outputs": [],
   "source": [
    "def freq_table(dataset, index):\n",
    "    table = {}\n",
    "    total = 0\n",
    "    \n",
    "    for row in dataset:\n",
    "        total += 1\n",
    "        value = row[index]\n",
    "        if value in table:\n",
    "            table[value] += 1\n",
    "        else:\n",
    "            table[value] = 1\n",
    "    \n",
    "    table_percentages = {}\n",
    "    for key in table:\n",
    "        percentage = (table[key] / total) * 100\n",
    "        table_percentages[key] = percentage \n",
    "    \n",
    "    return table_percentages\n",
    "\n",
    "\n",
    "def display_table(dataset, index):\n",
    "    table = freq_table(dataset, index)\n",
    "    table_display = []\n",
    "    for key in table:\n",
    "        key_val_as_tuple = (table[key], key)\n",
    "        table_display.append(key_val_as_tuple)\n",
    "        \n",
    "    table_sorted = sorted(table_display, reverse = True)\n",
    "    for entry in table_sorted:\n",
    "        print(entry[1], ':', entry[0])"
   ]
  },
  {
   "cell_type": "markdown",
   "id": "68379704",
   "metadata": {},
   "source": [
    "### Parte TRÊS\n",
    "Começamos examinando a tabela de frequência para a coluna prime_genre do conjunto de dados da App Store."
   ]
  },
  {
   "cell_type": "code",
   "execution_count": 65,
   "id": "60700e28",
   "metadata": {
    "scrolled": false
   },
   "outputs": [
    {
     "name": "stdout",
     "output_type": "stream",
     "text": [
      "Games : 55.64595660749507\n",
      "Entertainment : 8.234714003944774\n",
      "Photo & Video : 4.117357001972387\n",
      "Social Networking : 3.5256410256410255\n",
      "Education : 3.2544378698224854\n",
      "Shopping : 2.983234714003945\n",
      "Utilities : 2.687376725838264\n",
      "Lifestyle : 2.3175542406311638\n",
      "Finance : 2.0710059171597637\n",
      "Sports : 1.947731755424063\n",
      "Health & Fitness : 1.8737672583826428\n",
      "Music : 1.6518737672583828\n",
      "Book : 1.6272189349112427\n",
      "Productivity : 1.5285996055226825\n",
      "News : 1.4299802761341223\n",
      "Travel : 1.3806706114398422\n",
      "Food & Drink : 1.0601577909270217\n",
      "Weather : 0.7642998027613412\n",
      "Reference : 0.4930966469428008\n",
      "Navigation : 0.4930966469428008\n",
      "Business : 0.4930966469428008\n",
      "Catalogs : 0.22189349112426035\n",
      "Medical : 0.19723865877712032\n"
     ]
    }
   ],
   "source": [
    "display_table(ios_final, -5)"
   ]
  },
  {
   "cell_type": "markdown",
   "id": "7aa7f338",
   "metadata": {},
   "source": [
    "Podemos observar que entre os aplicativos gratuitos em inglês, mais da metade (55,64%) são jogos. Os aplicativos de entretenimento estão com uma porcetagem de 8,5%, seguidos pelos aplicativos de foto e vídeo, 4,11%. Apenas 3,25% dos aplicativos são projetados para educação, seguidos por aplicativos de redes sociais que representam 3,52% dos aplicativos em nosso conjunto de dados.\n",
    "\n",
    "A impressão geral é que a App Store (pelo menos a parte que contém aplicativos gratuitos em inglês) é dominada por aplicativos projetados para diversão (jogos, entretenimento, foto e vídeo, redes sociais, esportes, música, etc.), enquanto aplicativos com funções práticas propósitos (educação, compras, utilidades, produtividade, estilo de vida, etc.) são mais raros. No entanto, o fato de os aplicativos divertidos serem os mais numerosos também não significa que eles também tenham o maior número de usuários - a demanda pode não ser a mesma que a oferta.\n",
    "\n",
    "Vamos continuar examinando as colunas Gêneros e Categoria do conjunto de dados do Google Play (duas colunas que parecem estar relacionadas)."
   ]
  },
  {
   "cell_type": "code",
   "execution_count": 66,
   "id": "eb418ba3",
   "metadata": {},
   "outputs": [
    {
     "name": "stdout",
     "output_type": "stream",
     "text": [
      "FAMILY : 18.907942238267147\n",
      "GAME : 9.724729241877256\n",
      "TOOLS : 8.461191335740072\n",
      "BUSINESS : 4.591606498194946\n",
      "LIFESTYLE : 3.9034296028880866\n",
      "PRODUCTIVITY : 3.892148014440433\n",
      "FINANCE : 3.7003610108303246\n",
      "MEDICAL : 3.531137184115524\n",
      "SPORTS : 3.395758122743682\n",
      "PERSONALIZATION : 3.3167870036101084\n",
      "COMMUNICATION : 3.2378158844765346\n",
      "HEALTH_AND_FITNESS : 3.0798736462093865\n",
      "PHOTOGRAPHY : 2.944494584837545\n",
      "NEWS_AND_MAGAZINES : 2.7978339350180503\n",
      "SOCIAL : 2.6624548736462095\n",
      "TRAVEL_AND_LOCAL : 2.33528880866426\n",
      "SHOPPING : 2.2450361010830324\n",
      "BOOKS_AND_REFERENCE : 2.1435018050541514\n",
      "DATING : 1.861462093862816\n",
      "VIDEO_PLAYERS : 1.7937725631768955\n",
      "MAPS_AND_NAVIGATION : 1.3989169675090252\n",
      "FOOD_AND_DRINK : 1.2409747292418771\n",
      "EDUCATION : 1.1620036101083033\n",
      "ENTERTAINMENT : 0.9589350180505415\n",
      "LIBRARIES_AND_DEMO : 0.9363718411552346\n",
      "AUTO_AND_VEHICLES : 0.9250902527075812\n",
      "HOUSE_AND_HOME : 0.8235559566787004\n",
      "WEATHER : 0.8009927797833934\n",
      "EVENTS : 0.7107400722021661\n",
      "PARENTING : 0.6543321299638989\n",
      "ART_AND_DESIGN : 0.6430505415162455\n",
      "COMICS : 0.6204873646209386\n",
      "BEAUTY : 0.5979241877256317\n"
     ]
    }
   ],
   "source": [
    "display_table(android_final, 1) # Category"
   ]
  },
  {
   "cell_type": "markdown",
   "id": "0b1091e1",
   "metadata": {},
   "source": [
    "O cenário parece significativamente diferente no Google Play: não há tantos aplicativos projetados para diversão e parece que um bom número de aplicativos é projetado para fins práticos (família, ferramentas, negócios, estilo de vida, produtividade etc.). No entanto, se investigarmos mais a fundo, veremos que a categoria familiar (que responde por quase 19% dos aplicativos) significa principalmente jogos para crianças.\n",
    "\n",
    "Mesmo assim, os aplicativos práticos parecem ter uma representação melhor no Google Play em comparação com a App Store. Essa imagem também é confirmada pela tabela de frequência que vemos para a coluna Gêneros:"
   ]
  },
  {
   "cell_type": "code",
   "execution_count": 67,
   "id": "d298f042",
   "metadata": {
    "scrolled": false
   },
   "outputs": [
    {
     "name": "stdout",
     "output_type": "stream",
     "text": [
      "Tools : 8.449909747292418\n",
      "Entertainment : 6.069494584837545\n",
      "Education : 5.347472924187725\n",
      "Business : 4.591606498194946\n",
      "Productivity : 3.892148014440433\n",
      "Lifestyle : 3.892148014440433\n",
      "Finance : 3.7003610108303246\n",
      "Medical : 3.531137184115524\n",
      "Sports : 3.463447653429603\n",
      "Personalization : 3.3167870036101084\n",
      "Communication : 3.2378158844765346\n",
      "Action : 3.1024368231046933\n",
      "Health & Fitness : 3.0798736462093865\n",
      "Photography : 2.944494584837545\n",
      "News & Magazines : 2.7978339350180503\n",
      "Social : 2.6624548736462095\n",
      "Travel & Local : 2.3240072202166067\n",
      "Shopping : 2.2450361010830324\n",
      "Books & Reference : 2.1435018050541514\n",
      "Simulation : 2.0419675090252705\n",
      "Dating : 1.861462093862816\n",
      "Arcade : 1.8501805054151623\n",
      "Video Players & Editors : 1.7712093862815883\n",
      "Casual : 1.7599277978339352\n",
      "Maps & Navigation : 1.3989169675090252\n",
      "Food & Drink : 1.2409747292418771\n",
      "Puzzle : 1.128158844765343\n",
      "Racing : 0.9927797833935018\n",
      "Role Playing : 0.9363718411552346\n",
      "Libraries & Demo : 0.9363718411552346\n",
      "Auto & Vehicles : 0.9250902527075812\n",
      "Strategy : 0.9138086642599278\n",
      "House & Home : 0.8235559566787004\n",
      "Weather : 0.8009927797833934\n",
      "Events : 0.7107400722021661\n",
      "Adventure : 0.6768953068592057\n",
      "Comics : 0.6092057761732852\n",
      "Beauty : 0.5979241877256317\n",
      "Art & Design : 0.5979241877256317\n",
      "Parenting : 0.4963898916967509\n",
      "Card : 0.45126353790613716\n",
      "Casino : 0.42870036101083037\n",
      "Trivia : 0.41741877256317694\n",
      "Educational;Education : 0.39485559566787\n",
      "Board : 0.3835740072202166\n",
      "Educational : 0.3722924187725632\n",
      "Education;Education : 0.33844765342960287\n",
      "Word : 0.2594765342960289\n",
      "Casual;Pretend Play : 0.236913357400722\n",
      "Music : 0.2030685920577617\n",
      "Racing;Action & Adventure : 0.16922382671480143\n",
      "Puzzle;Brain Games : 0.16922382671480143\n",
      "Entertainment;Music & Video : 0.16922382671480143\n",
      "Casual;Brain Games : 0.13537906137184114\n",
      "Casual;Action & Adventure : 0.13537906137184114\n",
      "Arcade;Action & Adventure : 0.12409747292418773\n",
      "Action;Action & Adventure : 0.10153429602888085\n",
      "Educational;Pretend Play : 0.09025270758122744\n",
      "Simulation;Action & Adventure : 0.078971119133574\n",
      "Parenting;Education : 0.078971119133574\n",
      "Entertainment;Brain Games : 0.078971119133574\n",
      "Board;Brain Games : 0.078971119133574\n",
      "Parenting;Music & Video : 0.06768953068592057\n",
      "Educational;Brain Games : 0.06768953068592057\n",
      "Casual;Creativity : 0.06768953068592057\n",
      "Art & Design;Creativity : 0.06768953068592057\n",
      "Education;Pretend Play : 0.056407942238267145\n",
      "Role Playing;Pretend Play : 0.04512635379061372\n",
      "Education;Creativity : 0.04512635379061372\n",
      "Role Playing;Action & Adventure : 0.033844765342960284\n",
      "Puzzle;Action & Adventure : 0.033844765342960284\n",
      "Entertainment;Creativity : 0.033844765342960284\n",
      "Entertainment;Action & Adventure : 0.033844765342960284\n",
      "Educational;Creativity : 0.033844765342960284\n",
      "Educational;Action & Adventure : 0.033844765342960284\n",
      "Education;Music & Video : 0.033844765342960284\n",
      "Education;Brain Games : 0.033844765342960284\n",
      "Education;Action & Adventure : 0.033844765342960284\n",
      "Adventure;Action & Adventure : 0.033844765342960284\n",
      "Video Players & Editors;Music & Video : 0.02256317689530686\n",
      "Sports;Action & Adventure : 0.02256317689530686\n",
      "Simulation;Pretend Play : 0.02256317689530686\n",
      "Puzzle;Creativity : 0.02256317689530686\n",
      "Music;Music & Video : 0.02256317689530686\n",
      "Entertainment;Pretend Play : 0.02256317689530686\n",
      "Casual;Education : 0.02256317689530686\n",
      "Board;Action & Adventure : 0.02256317689530686\n",
      "Video Players & Editors;Creativity : 0.01128158844765343\n",
      "Trivia;Education : 0.01128158844765343\n",
      "Travel & Local;Action & Adventure : 0.01128158844765343\n",
      "Tools;Education : 0.01128158844765343\n",
      "Strategy;Education : 0.01128158844765343\n",
      "Strategy;Creativity : 0.01128158844765343\n",
      "Strategy;Action & Adventure : 0.01128158844765343\n",
      "Simulation;Education : 0.01128158844765343\n",
      "Role Playing;Brain Games : 0.01128158844765343\n",
      "Racing;Pretend Play : 0.01128158844765343\n",
      "Puzzle;Education : 0.01128158844765343\n",
      "Parenting;Brain Games : 0.01128158844765343\n",
      "Music & Audio;Music & Video : 0.01128158844765343\n",
      "Lifestyle;Pretend Play : 0.01128158844765343\n",
      "Lifestyle;Education : 0.01128158844765343\n",
      "Health & Fitness;Education : 0.01128158844765343\n",
      "Health & Fitness;Action & Adventure : 0.01128158844765343\n",
      "Entertainment;Education : 0.01128158844765343\n",
      "Communication;Creativity : 0.01128158844765343\n",
      "Comics;Creativity : 0.01128158844765343\n",
      "Casual;Music & Video : 0.01128158844765343\n",
      "Card;Action & Adventure : 0.01128158844765343\n",
      "Books & Reference;Education : 0.01128158844765343\n",
      "Art & Design;Pretend Play : 0.01128158844765343\n",
      "Art & Design;Action & Adventure : 0.01128158844765343\n",
      "Arcade;Pretend Play : 0.01128158844765343\n",
      "Adventure;Education : 0.01128158844765343\n"
     ]
    }
   ],
   "source": [
    "display_table(android_final, -4)"
   ]
  },
  {
   "cell_type": "markdown",
   "id": "113491da",
   "metadata": {},
   "source": [
    "A diferença entre as colunas Gêneros e Categoria não é clara, mas uma coisa que podemos notar é que a coluna Gêneros é muito mais granular (tem mais categorias). No momento, estamos procurando apenas uma visão geral, portanto, trabalharemos apenas com a coluna Categoria daqui para frente.\n",
    "\n",
    "Até este ponto, descobrimos que a App Store é dominada por aplicativos projetados para diversão, enquanto o Google Play mostra um cenário mais equilibrado de aplicativos práticos e divertidos. Agora, gostaríamos de ter uma ideia sobre o tipo de aplicativo que tem mais usuários."
   ]
  }
 ],
 "metadata": {
  "kernelspec": {
   "display_name": "Python 3",
   "language": "python",
   "name": "python3"
  },
  "language_info": {
   "codemirror_mode": {
    "name": "ipython",
    "version": 3
   },
   "file_extension": ".py",
   "mimetype": "text/x-python",
   "name": "python",
   "nbconvert_exporter": "python",
   "pygments_lexer": "ipython3",
   "version": "3.8.8"
  }
 },
 "nbformat": 4,
 "nbformat_minor": 5
}
