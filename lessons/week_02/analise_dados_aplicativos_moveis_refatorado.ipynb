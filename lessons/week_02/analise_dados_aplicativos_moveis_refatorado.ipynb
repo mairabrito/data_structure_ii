{
 "cells": [
  {
   "cell_type": "markdown",
   "id": "cae4896f",
   "metadata": {},
   "source": [
    "### [Projeto Guiado: Perfis de Aplicativos Lucrativos para App Store e Google Play Markets](https://github.com/mairabrito/data_structure_ii/blob/main/lessons/week_02/analise_dados_aplicativos_moveis.ipynb)\n",
    "\n",
    "#### Refatorado\n",
    "\n",
    "Agora utilizando POO, vamos criar uma class Data que receberar no seu construtor o endereço onde está localizado os dados no diretorio, um boleando afirmando True ou False caso deseje remover uma linha e o index da linha."
   ]
  },
  {
   "cell_type": "code",
   "execution_count": 1,
   "id": "aa6acf0c",
   "metadata": {},
   "outputs": [
    {
     "name": "stdout",
     "output_type": "stream",
     "text": [
      "\n",
      "### The Google Play data set ### \n",
      "\n",
      "['Photo Editor & Candy Camera & Grid & ScrapBook', 'ART_AND_DESIGN', '4.1', '159', '19M', '10,000+', 'Free', '0', 'Everyone', 'Art & Design', 'January 7, 2018', '1.0.0', '4.0.3 and up']\n",
      "\n",
      "\n",
      "Number of rows: 10840\n",
      "NUmber of columns: 13\n",
      "\n",
      "### The App Store data set ###\n",
      "\n",
      "['1', '281656475', 'PAC-MAN Premium', '100788224', 'USD', '3.99', '21292', '26', '4', '4.5', '6.3.5', '4+', 'Games', '38', '5', '10', '1']\n",
      "\n",
      "\n",
      "Number of rows: 7197\n",
      "NUmber of columns: 17\n"
     ]
    }
   ],
   "source": [
    "from csv import reader\n",
    "\n",
    "class Data():\n",
    "\n",
    "    def __init__(self, data_address, remove_line=False, line=0):\n",
    "        self.data_address = data_address\n",
    "        self.remove_line = remove_line\n",
    "        self.line = line\n",
    "        \n",
    "    def open_data(self):\n",
    "        opened_file = open(self.data_address)\n",
    "        read_file = reader(opened_file)\n",
    "        data = list(read_file)\n",
    "        self.data_header = data[0]\n",
    "        self.data = data[1:]\n",
    "        \n",
    "        if (self.remove_line):\n",
    "             del self.data[self.line]\n",
    "                  \n",
    "    def explore_data(self, start, end, row_and_columns = False):\n",
    "        dataset_slice = self.data[start:end]\n",
    "        for row in dataset_slice:\n",
    "            print(row)\n",
    "            print('\\n')\n",
    "        if (row_and_columns):\n",
    "            print('Number of rows:', len(self.data))\n",
    "            print('NUmber of columns:', len(self.data[0]))\n",
    "    \n",
    "    def remove_duplicate_entries(self, index):\n",
    "       \n",
    "        reviews_max = {}\n",
    "\n",
    "        for app in self.data:\n",
    "            name = app[0]\n",
    "            n_reviews = float(app[index])\n",
    "    \n",
    "            if name in reviews_max and reviews_max[name] < n_reviews:\n",
    "                reviews_max[name] = n_reviews\n",
    "            elif name not in reviews_max:\n",
    "                reviews_max[name] = n_reviews\n",
    "            \n",
    "        data_clean = []\n",
    "        already_added = []\n",
    "\n",
    "        for app in self.data:\n",
    "            name = app[0]\n",
    "            n_reviews = float(app[index])\n",
    "    \n",
    "            if n_reviews == reviews_max[name] and name not in already_added:\n",
    "                data_clean.append(app)\n",
    "                already_added.append(name)\n",
    "         \n",
    "        self.data = data_clean\n",
    "        \n",
    "    def _is_english (self, string):\n",
    "        non_ascii = 0\n",
    "        for character in string:\n",
    "            if ord(character) > 127:\n",
    "                non_ascii +=1\n",
    "    \n",
    "        if non_ascii > 3:\n",
    "            return False\n",
    "        else:\n",
    "            return True\n",
    "    \n",
    "    def remove_non_english_apps(self, index):\n",
    "        data_english = []\n",
    "        ios_english = []\n",
    "\n",
    "        for app in self.data:\n",
    "            name = app[index]\n",
    "            if self._is_english(name):\n",
    "                 data_english.append(app)\n",
    "        \n",
    "        self.data = data_english\n",
    "        \n",
    "    def isolate_free_apps(self, index):\n",
    "        data_final = []\n",
    "        for app in self.data:\n",
    "            price = app[index] \n",
    "            if price == '0':\n",
    "                data_final.append(app)\n",
    "        \n",
    "        self.data = data_final\n",
    "        \n",
    "    def freq_table(self, index):\n",
    "        table = {}\n",
    "        total = 0\n",
    "    \n",
    "        for row in self.data:\n",
    "            total += 1\n",
    "            value = row[index]\n",
    "            if value in table:\n",
    "                table[value] += 1\n",
    "            else:\n",
    "                table[value] = 1\n",
    "\n",
    "        table_percentages = {}\n",
    "        for key in table:\n",
    "            percentage = (table[key] / total) * 100\n",
    "            table_percentages[key] = percentage \n",
    "\n",
    "        return table_percentages\n",
    "\n",
    "\n",
    "    def display_table(self,index):\n",
    "        table = self.freq_table(index)\n",
    "        table_display = []\n",
    "        for key in table:\n",
    "            key_val_as_tuple = (table[key], key)\n",
    "            table_display.append(key_val_as_tuple)\n",
    "\n",
    "        table_sorted = sorted(table_display, reverse = True)\n",
    "        for entry in table_sorted:\n",
    "            print(entry[1], ':', entry[0])\n",
    "        \n",
    "    \n",
    "\n",
    "print('\\n### The Google Play data set ### \\n')\n",
    "android = Data('./my_datasets/googleplaystore.csv', True, 10472)\n",
    "android.open_data()\n",
    "android.explore_data(0,1, True)\n",
    "\n",
    "print('\\n### The App Store data set ###\\n')\n",
    "ios = Data('./my_datasets/AppleStore.csv')\n",
    "ios.open_data()\n",
    "ios.explore_data(0,1, True)\n"
   ]
  },
  {
   "cell_type": "markdown",
   "id": "1de30c0b",
   "metadata": {},
   "source": [
    "#### Removing Duplicate Entries\n"
   ]
  },
  {
   "cell_type": "code",
   "execution_count": 2,
   "id": "16bd30c3",
   "metadata": {},
   "outputs": [
    {
     "name": "stdout",
     "output_type": "stream",
     "text": [
      "['Photo Editor & Candy Camera & Grid & ScrapBook', 'ART_AND_DESIGN', '4.1', '159', '19M', '10,000+', 'Free', '0', 'Everyone', 'Art & Design', 'January 7, 2018', '1.0.0', '4.0.3 and up']\n",
      "\n",
      "\n",
      "Number of rows: 9659\n",
      "NUmber of columns: 13\n",
      "\n",
      "\n"
     ]
    }
   ],
   "source": [
    "android.remove_duplicate_entries(3)\n",
    "android.explore_data(0,1, True)\n",
    "print('\\n')\n"
   ]
  },
  {
   "cell_type": "markdown",
   "id": "037a5d25",
   "metadata": {},
   "source": [
    "#### Removing Non-English Apps"
   ]
  },
  {
   "cell_type": "code",
   "execution_count": 3,
   "id": "f3481298",
   "metadata": {},
   "outputs": [
    {
     "name": "stdout",
     "output_type": "stream",
     "text": [
      "['Photo Editor & Candy Camera & Grid & ScrapBook', 'ART_AND_DESIGN', '4.1', '159', '19M', '10,000+', 'Free', '0', 'Everyone', 'Art & Design', 'January 7, 2018', '1.0.0', '4.0.3 and up']\n",
      "\n",
      "\n",
      "Number of rows: 9614\n",
      "NUmber of columns: 13\n",
      "\n",
      "\n",
      "['1', '281656475', 'PAC-MAN Premium', '100788224', 'USD', '3.99', '21292', '26', '4', '4.5', '6.3.5', '4+', 'Games', '38', '5', '10', '1']\n",
      "\n",
      "\n",
      "Number of rows: 7197\n",
      "NUmber of columns: 17\n",
      "\n",
      "\n"
     ]
    }
   ],
   "source": [
    "android.remove_non_english_apps(0)\n",
    "android.explore_data(0,1, True)\n",
    "print('\\n')\n",
    "\n",
    "ios.remove_non_english_apps(1)\n",
    "ios.explore_data(0,1, True)\n",
    "print('\\n')"
   ]
  },
  {
   "cell_type": "markdown",
   "id": "77b20e79",
   "metadata": {},
   "source": [
    "#### Isolating the Free Apps\n"
   ]
  },
  {
   "cell_type": "code",
   "execution_count": 10,
   "id": "f5ed237d",
   "metadata": {},
   "outputs": [
    {
     "name": "stdout",
     "output_type": "stream",
     "text": [
      "['Photo Editor & Candy Camera & Grid & ScrapBook', 'ART_AND_DESIGN', '4.1', '159', '19M', '10,000+', 'Free', '0', 'Everyone', 'Art & Design', 'January 7, 2018', '1.0.0', '4.0.3 and up']\n",
      "\n",
      "\n",
      "Number of rows: 8864\n",
      "NUmber of columns: 13\n",
      "\n",
      "\n",
      "['25', '286070473', 'Mileage Log | Fahrtenbuch', '71203840', 'USD', '5.99', '8', '0', '4.5', '0', '9.0.5', '4+', 'Business', '37', '5', '3', '1']\n",
      "\n",
      "\n",
      "Number of rows: 1443\n",
      "NUmber of columns: 17\n",
      "\n",
      "\n"
     ]
    }
   ],
   "source": [
    "android.isolate_free_apps(7)\n",
    "android.explore_data(0,1, True)\n",
    "print('\\n')\n",
    "\n",
    "ios.isolate_free_apps(7)\n",
    "ios.explore_data(0,1, True)\n",
    "print('\\n')\n",
    "\n"
   ]
  },
  {
   "cell_type": "markdown",
   "id": "124b710b",
   "metadata": {},
   "source": [
    "Começamos examinando a tabela de frequência para a coluna prime_genre do conjunto de dados da App Store."
   ]
  },
  {
   "cell_type": "code",
   "execution_count": 11,
   "id": "4fd8a1c9",
   "metadata": {},
   "outputs": [
    {
     "name": "stdout",
     "output_type": "stream",
     "text": [
      "Games : 41.44144144144144\n",
      "Education : 7.900207900207901\n",
      "Entertainment : 7.830907830907831\n",
      "Finance : 4.0194040194040195\n",
      "Book : 3.9501039501039505\n",
      "Social Networking : 3.8808038808038807\n",
      "Photo & Video : 3.8115038115038113\n",
      "Lifestyle : 3.6729036729036726\n",
      "Utilities : 3.6036036036036037\n",
      "Shopping : 2.9799029799029797\n",
      "Health & Fitness : 2.564102564102564\n",
      "Sports : 2.148302148302148\n",
      "News : 2.0097020097020097\n",
      "Travel : 1.7325017325017324\n",
      "Food & Drink : 1.593901593901594\n",
      "Navigation : 1.386001386001386\n",
      "Productivity : 1.2474012474012475\n",
      "Reference : 1.0395010395010396\n",
      "Weather : 0.9702009702009702\n",
      "Business : 0.8316008316008316\n",
      "Music : 0.7623007623007623\n",
      "Catalogs : 0.3465003465003465\n",
      "Medical : 0.2772002772002772\n"
     ]
    }
   ],
   "source": [
    "ios.display_table(-5)"
   ]
  },
  {
   "cell_type": "markdown",
   "id": "b8c70e1d",
   "metadata": {},
   "source": [
    "Vamos continuar examinando as colunas Gêneros e Categoria do conjunto de dados do Google Play (duas colunas que parecem estar relacionadas)."
   ]
  },
  {
   "cell_type": "code",
   "execution_count": 12,
   "id": "dc126338",
   "metadata": {},
   "outputs": [
    {
     "name": "stdout",
     "output_type": "stream",
     "text": [
      "FAMILY : 18.907942238267147\n",
      "GAME : 9.724729241877256\n",
      "TOOLS : 8.461191335740072\n",
      "BUSINESS : 4.591606498194946\n",
      "LIFESTYLE : 3.9034296028880866\n",
      "PRODUCTIVITY : 3.892148014440433\n",
      "FINANCE : 3.7003610108303246\n",
      "MEDICAL : 3.531137184115524\n",
      "SPORTS : 3.395758122743682\n",
      "PERSONALIZATION : 3.3167870036101084\n",
      "COMMUNICATION : 3.2378158844765346\n",
      "HEALTH_AND_FITNESS : 3.0798736462093865\n",
      "PHOTOGRAPHY : 2.944494584837545\n",
      "NEWS_AND_MAGAZINES : 2.7978339350180503\n",
      "SOCIAL : 2.6624548736462095\n",
      "TRAVEL_AND_LOCAL : 2.33528880866426\n",
      "SHOPPING : 2.2450361010830324\n",
      "BOOKS_AND_REFERENCE : 2.1435018050541514\n",
      "DATING : 1.861462093862816\n",
      "VIDEO_PLAYERS : 1.7937725631768955\n",
      "MAPS_AND_NAVIGATION : 1.3989169675090252\n",
      "FOOD_AND_DRINK : 1.2409747292418771\n",
      "EDUCATION : 1.1620036101083033\n",
      "ENTERTAINMENT : 0.9589350180505415\n",
      "LIBRARIES_AND_DEMO : 0.9363718411552346\n",
      "AUTO_AND_VEHICLES : 0.9250902527075812\n",
      "HOUSE_AND_HOME : 0.8235559566787004\n",
      "WEATHER : 0.8009927797833934\n",
      "EVENTS : 0.7107400722021661\n",
      "PARENTING : 0.6543321299638989\n",
      "ART_AND_DESIGN : 0.6430505415162455\n",
      "COMICS : 0.6204873646209386\n",
      "BEAUTY : 0.5979241877256317\n"
     ]
    }
   ],
   "source": [
    "android.display_table(1) # Category"
   ]
  }
 ],
 "metadata": {
  "kernelspec": {
   "display_name": "Python 3 (ipykernel)",
   "language": "python",
   "name": "python3"
  },
  "language_info": {
   "codemirror_mode": {
    "name": "ipython",
    "version": 3
   },
   "file_extension": ".py",
   "mimetype": "text/x-python",
   "name": "python",
   "nbconvert_exporter": "python",
   "pygments_lexer": "ipython3",
   "version": "3.10.9"
  }
 },
 "nbformat": 4,
 "nbformat_minor": 5
}
